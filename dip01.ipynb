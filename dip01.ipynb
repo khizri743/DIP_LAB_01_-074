{
 "cells": [
  {
   "cell_type": "markdown",
   "metadata": {},
   "source": [
    "Khizar Mehmood\n",
    "01-134212-074"
   ]
  },
  {
   "cell_type": "markdown",
   "metadata": {},
   "source": [
    "TASK 1"
   ]
  },
  {
   "cell_type": "code",
   "execution_count": 60,
   "metadata": {},
   "outputs": [
    {
     "name": "stdout",
     "output_type": "stream",
     "text": [
      "Error: The dimensions of both Matrices must be equal.\n",
      "Enter the correct dimensions again.\n",
      "Matrix A + Matrix B:\n",
      "[10, 10, 10]\n",
      "[10, 10, 10]\n",
      "[10, 10, 10]\n"
     ]
    }
   ],
   "source": [
    "def check_dim(dim_A, dim_B):\n",
    "    return dim_A == dim_B\n",
    "\n",
    "def input_matrices(rows_A, columns_A, rows_B, columns_B):\n",
    "    # Input Matrix A\n",
    "    mat_A = [[0 for _ in range(columns_A)] for _ in range(rows_A)]\n",
    "    for i in range(len(mat_A)):\n",
    "        for j in range(len(mat_A[0])):\n",
    "            mat_A[i][j] = int(input(f\"Enter A[{i}][{j}]: \"))\n",
    "\n",
    "    # Input Matrix B\n",
    "    mat_B = [[0 for _ in range(columns_B)] for _ in range(rows_B)]\n",
    "    for i in range(len(mat_B)):\n",
    "        for j in range(len(mat_B[0])):\n",
    "            mat_B[i][j] = int(input(f\"Enter B[{i}][{j}]: \"))\n",
    "\n",
    "    return mat_A, mat_B\n",
    "\n",
    "def addition(mat_A, mat_B):\n",
    "    result = [[0 for _ in range(len(mat_A[0]))] for _ in range(len(mat_A))]\n",
    "\n",
    "    for i in range(len(mat_A)):\n",
    "        for j in range(len(mat_A[0])):\n",
    "            result[i][j] = mat_A[i][j] + mat_B[i][j]\n",
    "    \n",
    "    return result\n",
    "\n",
    "while True:\n",
    "    rows_A = int(input(\"Number of Rows for Matrix A: \"))\n",
    "    columns_A = int(input(\"Number of Columns for Matrix A: \"))\n",
    "    dim_a = (rows_A, columns_A)\n",
    "\n",
    "    rows_B = int(input(\"Number of Rows for Matrix B: \"))\n",
    "    columns_B = int(input(\"Number of Columns for Matrix B: \"))\n",
    "    dim_b = (rows_B, columns_B)\n",
    "\n",
    "    if not check_dim(dim_a, dim_b):\n",
    "        print(\"Error: The dimensions of both Matrices must be equal.\\nEnter the correct dimensions again.\")\n",
    "    else:\n",
    "        mat_A, mat_B = input_matrices(rows_A, columns_A, rows_B, columns_B)\n",
    "        result = addition(mat_A, mat_B)\n",
    "        print(\"Matrix A + Matrix B:\")\n",
    "        for row in result:\n",
    "            print(row)\n",
    "        break"
   ]
  },
  {
   "cell_type": "markdown",
   "metadata": {},
   "source": [
    "TASK 2"
   ]
  },
  {
   "cell_type": "code",
   "execution_count": 55,
   "metadata": {},
   "outputs": [
    {
     "name": "stdout",
     "output_type": "stream",
     "text": [
      "Error: The number of columns in Matrix A must be equal to the number of rows in Matrix B.\n",
      "Enter the correct dimensions again.\n",
      "Matrix A * Matrix B:\n",
      "[58, 64]\n",
      "[139, 154]\n"
     ]
    }
   ],
   "source": [
    "def check_dim(columns_A, rows_B):\n",
    "    return columns_A == rows_B\n",
    "\n",
    "def input_matrices(dim_A, dim_B):\n",
    "    # Input Matrix A\n",
    "    mat_A = [[0 for _ in range(dim_A[1])] for _ in range(dim_A[0])]\n",
    "    for i in range(len(mat_A)):\n",
    "        for j in range(len(mat_A[0])):\n",
    "            mat_A[i][j] = int(input(f\"Enter A[{i}][{j}]: \"))\n",
    "\n",
    "    # Input Matrix B\n",
    "    mat_B = [[0 for _ in range(dim_B[1])] for _ in range(dim_B[0])]\n",
    "    for i in range(len(mat_B)):\n",
    "        for j in range(len(mat_B[0])):\n",
    "            mat_B[i][j] = int(input(f\"Enter B[{i}][{j}]: \"))\n",
    "\n",
    "    return mat_A, mat_B\n",
    "\n",
    "def multiply(mat_A, mat_B):\n",
    "    result = [[0 for _ in range(len(mat_B[0]))] for _ in range(len(mat_A))]\n",
    "\n",
    "    for i in range(len(mat_A)):\n",
    "        for j in range(len(mat_B[0])):\n",
    "            for k in range(len(mat_B)):\n",
    "                result[i][j] += mat_A[i][k] * mat_B[k][j]\n",
    "\n",
    "    return result\n",
    "\n",
    "while True:\n",
    "    rows_A = int(input(\"Number of Rows for Matrix A: \"))\n",
    "    columns_A = int(input(\"Number of Columns for Matrix A: \"))\n",
    "    dim_A = [rows_A, columns_A]\n",
    "\n",
    "    rows_B = int(input(\"Number of Rows for Matrix B: \"))\n",
    "    columns_B = int(input(\"Number of Columns for Matrix B: \"))\n",
    "    dim_B = [rows_B, columns_B]\n",
    "\n",
    "    if not check_dim(columns_A, rows_B):\n",
    "        print(\"Error: The number of columns in Matrix A must be equal to the number of rows in Matrix B.\\nEnter the correct dimensions again.\")\n",
    "    else:\n",
    "        mat_A, mat_B = input_matrices(dim_A, dim_B)\n",
    "        result = multiply(mat_A, mat_B)\n",
    "        print(\"Matrix A * Matrix B:\")\n",
    "        for row in result:\n",
    "            print(row)\n",
    "        break"
   ]
  }
 ],
 "metadata": {
  "kernelspec": {
   "display_name": "Python 3",
   "language": "python",
   "name": "python3"
  },
  "language_info": {
   "codemirror_mode": {
    "name": "ipython",
    "version": 3
   },
   "file_extension": ".py",
   "mimetype": "text/x-python",
   "name": "python",
   "nbconvert_exporter": "python",
   "pygments_lexer": "ipython3",
   "version": "3.12.6"
  }
 },
 "nbformat": 4,
 "nbformat_minor": 2
}
